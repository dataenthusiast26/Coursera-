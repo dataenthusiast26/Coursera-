{
 "cells": [
  {
   "cell_type": "markdown",
   "id": "05031a83-f8bc-4de0-bb1d-2250a7566d38",
   "metadata": {},
   "source": [
    "# My Data Science Final Project"
   ]
  },
  {
   "cell_type": "markdown",
   "id": "146aac31-a525-435b-8839-426b52cb7727",
   "metadata": {},
   "source": [
    "This notebook serves as the final project for the Data Science Tools course. It demonstrates various concepts and tools used in data science, including popular languages, libraries, and common operations."
   ]
  },
  {
   "cell_type": "markdown",
   "id": "e7914e63-8cb9-43b8-889d-0cdc36063b1a",
   "metadata": {},
   "source": [
    "### Data Science Languages\n",
    "\n",
    "Here are some widely used programming languages in data science:\n",
    "\n",
    "1.  **Python:** Versatile and popular for its extensive libraries (NumPy, Pandas, Scikit-learn).\n",
    "2.  **R:** Strong for statistical computing and graphics.\n",
    "3.  **SQL:** Essential for managing and querying databases.\n",
    "4.  **Julia:** A high-performance language for technical computing.\n",
    "5.  **Scala:** Often used with Apache Spark for big data processing."
   ]
  },
  {
   "cell_type": "markdown",
   "id": "b05982c2-83e2-4173-809a-7039e4bd6c7f",
   "metadata": {},
   "source": [
    "### Data Science Libraries\n",
    "\n",
    "Key libraries that make data science tasks easier:\n",
    "\n",
    "* **Pandas:** For data manipulation and analysis.\n",
    "* **NumPy:** For numerical operations, especially with arrays.\n",
    "* **Matplotlib:** For creating static, interactive, and animated visualizations.\n",
    "* **Seaborn:** Built on Matplotlib, for statistical data visualization.\n",
    "* **Scikit-learn:** For machine learning algorithms.\n",
    "* **TensorFlow:** An open-source machine learning platform.\n",
    "* **PyTorch:** An open-source machine learning framework."
   ]
  },
  {
   "cell_type": "markdown",
   "id": "879ded83-08c4-45cf-a5ad-29d54e1a0645",
   "metadata": {},
   "source": [
    "### Data Science Tools\n",
    "\n",
    "| Category            | Tool Name           | Description                                    |\n",
    "| :------------------ | :------------------ | :--------------------------------------------- |\n",
    "| Programming Languages | Python              | General-purpose, extensive libraries           |\n",
    "|                     | R                   | Statistical computing and graphics             |\n",
    "|                     | SQL                 | Database management and querying               |\n",
    "| Development Environments | Jupyter Notebook    | Interactive computing environment              |\n",
    "|                     | VS Code             | Popular IDE with data science extensions       |\n",
    "| Data Visualization  | Tableau             | Interactive data visualization software        |\n",
    "|                     | Power BI            | Business intelligence tool                     |\n",
    "| Big Data Platforms  | Apache Spark        | Unified analytics engine for large-scale data  |\n",
    "| Machine Learning Platforms | TensorFlow          | Open-source ML platform                        |\n",
    "|                     | Keras               | High-level neural networks API (runs on TF/CNTK) |"
   ]
  },
  {
   "cell_type": "markdown",
   "id": "e2e47fb8-2f1c-4a92-9d34-73f2f11f12c1",
   "metadata": {},
   "source": [
    "### Arithmetic Expression Examples\n",
    "˛\n",
    "Below are a few examples demonstrating basic arithmetic operations in a code cell. We'll cover multiplication and addition.˛"
   ]
  },
  {
   "cell_type": "code",
   "execution_count": 10,
   "id": "15f39870-c8c5-4cd9-85dd-74cf159bb4c1",
   "metadata": {},
   "outputs": [
    {
     "name": "stdout",
     "output_type": "stream",
     "text": [
      "Multiplying 5 by 8 gives: 40\n",
      "Adding 3 to the product gives: 43\n"
     ]
    }
   ],
   "source": [
    "# This is a simple arithmetic expression to multiply and add integers.\n",
    "\n",
    "# Define numbers\n",
    "a = 5\n",
    "b = 8\n",
    "c = 3\n",
    "\n",
    "# Perform multiplication\n",
    "multiply_result = a * b\n",
    "\n",
    "# Perform addition\n",
    "final_result = multiply_result + c\n",
    "\n",
    "# Print the results\n",
    "print(f\"Multiplying {a} by {b} gives: {multiply_result}\")\n",
    "print(f\"Adding {c} to the product gives: {final_result}\")"
   ]
  },
  {
   "cell_type": "code",
   "execution_count": 12,
   "id": "f0e3c367-3001-4581-8a5e-14a7e2e3214f",
   "metadata": {},
   "outputs": [
    {
     "name": "stdout",
     "output_type": "stream",
     "text": [
      "120 minutes is equal to 2.0 hours.\n"
     ]
    }
   ],
   "source": [
    "# This code cell will convert minutes to hours.\n",
    "\n",
    "minutes = 120 # Example: 120 minutes\n",
    "\n",
    "# Conversion factor: 1 hour = 60 minutes\n",
    "hours = minutes / 60\n",
    "\n",
    "print(f\"{minutes} minutes is equal to {hours} hours.\")"
   ]
  },
  {
   "cell_type": "markdown",
   "id": "5736acce-103c-4a9f-a98f-192b4310288e",
   "metadata": {},
   "source": [
    "### Objectives\n",
    "\n",
    "The primary objectives of this notebook are to:\n",
    "\n",
    "* Demonstrate proficiency in creating markdown cells for documentation.\n",
    "* Showcase an understanding of common data science languages and libraries.\n",
    "* Provide examples of basic arithmetic operations using code cells.\n",
    "* Illustrate unit conversion with Python code.\n",
    "* Fulfill the requirements for the Data Science Tools final project."
   ]
  },
  {
   "cell_type": "markdown",
   "id": "86a51621-179d-4586-a4f5-3c3d672e02f7",
   "metadata": {},
   "source": [
    "### Author\n",
    "\n",
    "**Aarohi Gulhane**"
   ]
  },
  {
   "cell_type": "code",
   "execution_count": null,
   "id": "fce890a0-84c5-4bbc-a0b3-6e0e0c20c321",
   "metadata": {},
   "outputs": [],
   "source": []
  }
 ],
 "metadata": {
  "kernelspec": {
   "display_name": "Python [conda env:base] *",
   "language": "python",
   "name": "conda-base-py"
  },
  "language_info": {
   "codemirror_mode": {
    "name": "ipython",
    "version": 3
   },
   "file_extension": ".py",
   "mimetype": "text/x-python",
   "name": "python",
   "nbconvert_exporter": "python",
   "pygments_lexer": "ipython3",
   "version": "3.12.7"
  }
 },
 "nbformat": 4,
 "nbformat_minor": 5
}
